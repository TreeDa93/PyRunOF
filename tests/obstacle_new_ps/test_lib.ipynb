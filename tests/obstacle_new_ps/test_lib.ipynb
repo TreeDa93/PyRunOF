{
 "cells": [
  {
   "cell_type": "code",
   "execution_count": 1,
   "metadata": {},
   "outputs": [],
   "source": [
    "import pyRunOF\n",
    "import os.path\n",
    "from settings.data import *"
   ]
  },
  {
   "cell_type": "code",
   "execution_count": 3,
   "metadata": {},
   "outputs": [],
   "source": [
    "# Initialize a class to process case. Here we declare path of working folder\n",
    "mp = pyRunOF.Manipulations(dir_path=dir_path)\n",
    "\n",
    "## Set path for folder with settings and solution\n",
    "mp.create_path_dir(dir_path_key='dir', case_name='settings',\n",
    "                    path_key='settings')\n",
    "mp.create_path_dir(dir_path_key='dir', case_name='solution',\n",
    "                    path_key='solution')\n",
    "\n",
    "# set path of source case\n",
    "mp.create_name(name_base=src_case, name_key=src_name_key)\n",
    "mp.create_path_dir(dir_path_key='settings', name_key=src_name_key,\n",
    "                    path_key=src_path_key)\n",
    "# path to json parameters\n",
    "mp.create_path_dir(dir_path_key='settings', case_name='parameters.json',\n",
    "                    path_key='parameters_path')\n",
    "# path to json parameters of mesh\n",
    "mp.create_path_dir(dir_path_key='settings', case_name='mesh_parameters.json',\n",
    "                    path_key='mesh_parameters_path')\n",
    "# имя скрипта для создания сетки\n",
    "mp.create_name(name_base='create_obstacle_mesh.py', only_base=True, name_key='salome_script')\n",
    "# путь к скрипту сетки\n",
    "mp.create_path_dir(dir_path_key='settings', name_key='salome_script', path_key='salome_script_path')\n",
    "\n",
    "# set path to general parameters\n",
    "mp.create_path_dir(dir_path_key='settings', case_name='parameters.json',\n",
    "                    path_key='parameters_path')\n",
    "# set path to general parameters\n",
    "mp.create_path_dir(dir_path_key='settings', case_name='mesh_parameters.json',\n",
    "                    path_key='mesh_parameters_path')\n",
    "\n",
    "# collect general dict of parameters и записывает в путь по ключу parameters_path\n",
    "mp.create_json_params(time_dict, parallel_dict, prop_dict, zero_dict, library_path,\n",
    "                        mp.get_dict_from_json(mp.get_path('mesh_parameters_path')),\n",
    "                        save_path=mp.get_path('parameters_path'))\n",
    "\n",
    "# if the solution folder does not exist we create it by below written code\n",
    "if not os.path.exists(mp.get_path('solution')):\n",
    "    mp.create_folder(dir_key='dir', folder_name='solution')"
   ]
  },
  {
   "cell_type": "code",
   "execution_count": 4,
   "metadata": {},
   "outputs": [],
   "source": [
    "mp.create_name('test', name_base=src_case, name_key=dst_name_key)\n",
    "mp.create_path_dir(dir_path_key='solution', name_key=dst_name_key,\n",
    "                    path_key=dst_path_key)\n",
    "\n",
    "mp.duplicate_case(src_key=src_path_key, dist_key=dst_path_key, mode='rewrite')\n",
    "\n",
    "\n"
   ]
  },
  {
   "cell_type": "code",
   "execution_count": 5,
   "metadata": {},
   "outputs": [],
   "source": [
    "data = mp.get_dict_from_json(mp.get_path('parameters_path'))\n",
    "\n",
    "# here update velocity according Re number\n",
    "# data['U_var'] = calculate_velocity(data['Re_var'], data['nu_var'], data['d_var'])\n",
    "# mp.change_json_params(mp.get_path('mesh_parameters_path'), data)\n",
    "\n",
    "########### System folder #######################\n",
    "system = pyRunOF.System(case_path=mp.get_path(dst_path_key))\n",
    "system.set_control_dict(data) #, case_path=mp.get_path(dst_path_key))\n"
   ]
  },
  {
   "cell_type": "code",
   "execution_count": 6,
   "metadata": {},
   "outputs": [],
   "source": [
    "########### Constant folder #####################\n",
    "constant = pyRunOF.Constant(case_path=mp.get_path(dst_path_key), lib_path=library_path['lib_path_var'])\n",
    "constant.set_transportProp(data)\n",
    "\"\"\"\n",
    "LES - Large eddy simulation\n",
    "            kEpsilon\n",
    "            realizablekE\n",
    "            kOmega\n",
    "            kOmegaSST\n",
    "            laminar\n",
    "            LESSmag\n",
    "\"\"\"\n",
    "\n",
    "constant.turbulent_model(turbulent_type='kEpsilon')  # , case_path=mp.get_path(dst_path_key))\n",
    "\n"
   ]
  },
  {
   "cell_type": "code",
   "execution_count": 9,
   "metadata": {},
   "outputs": [],
   "source": [
    "########### Initial conditions #####################\n",
    "zero = pyRunOF.InitialValue(case_path=mp.get_path(dst_path_key))\n",
    "\n",
    "data.update(zero.calcInitVal_cylindr(data['d_var'], data['U_var'], data['nu_var']))\n",
    "\n",
    "zero.set_var(data, file_names=zero.find_all_zero_files())\n",
    "                #case_path=mp.get_path(dst_path_key),\n",
    "                #)\n",
    "\n",
    "########### mesh settings #####################\n",
    "mesh = pyRunOF.Mesh(case_path=mp.get_path(dst_path_key))\n",
    "mesh.set_decomposePar(data)\n",
    "\n",
    "mp.create_name(name_base='create_obstacle_mesh.py', only_base=True, name_key='salome_script')\n",
    "mp.create_path_dir(dir_path_key='settings', name_key='salome_script', path_key='salome_script_path')\n",
    "poly_mesh_path = mp.get_constant_path(str(mp.get_path(dst_path_key))) / 'polyMesh'\n",
    "\n",
    "data.update({'constant_path': str(poly_mesh_path)})\n",
    "\n",
    "mp.create_path_dir(dir_path_key='settings', case_name='parameters.json',\n",
    "                    path_key='parameters_path_new')\n",
    "\n",
    "# collect general dict of parameters и записывает в путь по ключу parameters_path\n",
    "mp.create_json_params(data, save_path=mp.get_path('parameters_path_new'))\n"
   ]
  },
  {
   "cell_type": "code",
   "execution_count": 10,
   "metadata": {},
   "outputs": [
    {
     "ename": "FileNotFoundError",
     "evalue": "[Errno 2] No such file or directory",
     "output_type": "error",
     "traceback": [
      "\u001b[0;31m---------------------------------------------------------------------------\u001b[0m",
      "\u001b[0;31mFileNotFoundError\u001b[0m                         Traceback (most recent call last)",
      "Cell \u001b[0;32mIn[10], line 1\u001b[0m\n\u001b[0;32m----> 1\u001b[0m \u001b[43mmesh\u001b[49m\u001b[38;5;241;43m.\u001b[39;49m\u001b[43mrun_salome_mesh\u001b[49m\u001b[43m(\u001b[49m\u001b[43mscript_path\u001b[49m\u001b[38;5;241;43m=\u001b[39;49m\u001b[43mmp\u001b[49m\u001b[38;5;241;43m.\u001b[39;49m\u001b[43mget_path\u001b[49m\u001b[43m(\u001b[49m\u001b[38;5;124;43m'\u001b[39;49m\u001b[38;5;124;43msalome_script_path\u001b[39;49m\u001b[38;5;124;43m'\u001b[39;49m\u001b[43m)\u001b[49m\u001b[43m,\u001b[49m\n\u001b[1;32m      2\u001b[0m \u001b[43m                        \u001b[49m\u001b[43mparameter_path\u001b[49m\u001b[38;5;241;43m=\u001b[39;49m\u001b[43mmp\u001b[49m\u001b[38;5;241;43m.\u001b[39;49m\u001b[43mget_path\u001b[49m\u001b[43m(\u001b[49m\u001b[38;5;124;43m'\u001b[39;49m\u001b[38;5;124;43mparameters_path_new\u001b[39;49m\u001b[38;5;124;43m'\u001b[39;49m\u001b[43m)\u001b[49m\u001b[43m)\u001b[49m\n\u001b[1;32m      4\u001b[0m mesh\u001b[38;5;241m.\u001b[39mdecompose_run_OF()\n",
      "File \u001b[0;32m~/python_local/python-3.11_general/lib/python3.11/site-packages/pyRunOF-0.1b0-py3.11.egg/pyRunOF/modules/meshes.py:157\u001b[0m, in \u001b[0;36mMesh.run_salome_mesh\u001b[0;34m(self, script_path, parameter_path, info_key)\u001b[0m\n\u001b[1;32m    154\u001b[0m parameter_path \u001b[38;5;241m=\u001b[39m Priority\u001b[38;5;241m.\u001b[39mpath(parameter_path, \u001b[38;5;28mself\u001b[39m\u001b[38;5;241m.\u001b[39minfo, info_key)\n\u001b[1;32m    156\u001b[0m command \u001b[38;5;241m=\u001b[39m \u001b[38;5;124mf\u001b[39m\u001b[38;5;124m\"\u001b[39m\u001b[38;5;124msalome -t \u001b[39m\u001b[38;5;132;01m{\u001b[39;00mscript_name\u001b[38;5;132;01m}\u001b[39;00m\u001b[38;5;124m args:\u001b[39m\u001b[38;5;132;01m{\u001b[39;00mparameter_path\u001b[38;5;132;01m}\u001b[39;00m\u001b[38;5;124m\"\u001b[39m\n\u001b[0;32m--> 157\u001b[0m \u001b[43mExecuter\u001b[49m\u001b[38;5;241;43m.\u001b[39;49m\u001b[43mrun_command\u001b[49m\u001b[43m(\u001b[49m\u001b[43mcommand\u001b[49m\u001b[43m,\u001b[49m\u001b[43m \u001b[49m\u001b[43mwhere\u001b[49m\u001b[43m)\u001b[49m\n",
      "File \u001b[0;32m~/python_local/python-3.11_general/lib/python3.11/site-packages/pyRunOF-0.1b0-py3.11.egg/pyRunOF/additional_fun/auxiliary_functions.py:172\u001b[0m, in \u001b[0;36mExecuter.run_command\u001b[0;34m(command, where, go_back)\u001b[0m\n\u001b[1;32m    169\u001b[0m \u001b[38;5;129m@staticmethod\u001b[39m\n\u001b[1;32m    170\u001b[0m \u001b[38;5;28;01mdef\u001b[39;00m \u001b[38;5;21mrun_command\u001b[39m(command: \u001b[38;5;28mstr\u001b[39m, where, go_back\u001b[38;5;241m=\u001b[39m\u001b[38;5;28;01mTrue\u001b[39;00m):\n\u001b[1;32m    171\u001b[0m     \u001b[38;5;28;01mif\u001b[39;00m go_back \u001b[38;5;129;01mis\u001b[39;00m \u001b[38;5;28;01mTrue\u001b[39;00m:\n\u001b[0;32m--> 172\u001b[0m         path_back \u001b[38;5;241m=\u001b[39m \u001b[43mpl\u001b[49m\u001b[38;5;241;43m.\u001b[39;49m\u001b[43mPath\u001b[49m\u001b[38;5;241;43m.\u001b[39;49m\u001b[43mcwd\u001b[49m\u001b[43m(\u001b[49m\u001b[43m)\u001b[49m\n\u001b[1;32m    173\u001b[0m     os\u001b[38;5;241m.\u001b[39mchdir(where)\n\u001b[1;32m    174\u001b[0m     os\u001b[38;5;241m.\u001b[39msystem(command)\n",
      "File \u001b[0;32m/usr/lib/python3.11/pathlib.py:908\u001b[0m, in \u001b[0;36mPath.cwd\u001b[0;34m(cls)\u001b[0m\n\u001b[1;32m    903\u001b[0m \u001b[38;5;129m@classmethod\u001b[39m\n\u001b[1;32m    904\u001b[0m \u001b[38;5;28;01mdef\u001b[39;00m \u001b[38;5;21mcwd\u001b[39m(\u001b[38;5;28mcls\u001b[39m):\n\u001b[1;32m    905\u001b[0m \u001b[38;5;250m    \u001b[39m\u001b[38;5;124;03m\"\"\"Return a new path pointing to the current working directory\u001b[39;00m\n\u001b[1;32m    906\u001b[0m \u001b[38;5;124;03m    (as returned by os.getcwd()).\u001b[39;00m\n\u001b[1;32m    907\u001b[0m \u001b[38;5;124;03m    \"\"\"\u001b[39;00m\n\u001b[0;32m--> 908\u001b[0m     \u001b[38;5;28;01mreturn\u001b[39;00m \u001b[38;5;28mcls\u001b[39m(\u001b[43mos\u001b[49m\u001b[38;5;241;43m.\u001b[39;49m\u001b[43mgetcwd\u001b[49m\u001b[43m(\u001b[49m\u001b[43m)\u001b[49m)\n",
      "\u001b[0;31mFileNotFoundError\u001b[0m: [Errno 2] No such file or directory"
     ]
    }
   ],
   "source": [
    "mesh.run_salome_mesh(script_path=mp.get_path('salome_script_path'),\n",
    "                        parameter_path=mp.get_path('parameters_path_new'))\n",
    "\n",
    "mesh.decompose_run_OF()"
   ]
  },
  {
   "cell_type": "code",
   "execution_count": null,
   "metadata": {},
   "outputs": [],
   "source": [
    "runner = pyRunOF.Run(solver='pisoFoam', path_case=mp.get_path(dst_path_key))\n",
    "runner.set_log_flag(log_flag=True)\n",
    "runner.set_mode(mode='parallel')\n",
    "runner.set_cores(coreOF=data['core_OF'])\n",
    "runner.run()\n"
   ]
  }
 ],
 "metadata": {
  "kernelspec": {
   "display_name": "python-3.11_general",
   "language": "python",
   "name": "python3"
  },
  "language_info": {
   "codemirror_mode": {
    "name": "ipython",
    "version": 3
   },
   "file_extension": ".py",
   "mimetype": "text/x-python",
   "name": "python",
   "nbconvert_exporter": "python",
   "pygments_lexer": "ipython3",
   "version": "3.11.6"
  }
 },
 "nbformat": 4,
 "nbformat_minor": 2
}
