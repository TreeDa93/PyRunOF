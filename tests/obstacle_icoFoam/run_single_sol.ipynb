{
 "cells": [
  {
   "cell_type": "markdown",
   "metadata": {
    "collapsed": false
   },
   "source": [
    "# Run obstacle case by PyRunOF. \n",
    "\n",
    "The test was created to explain the general options and possibility of the python libraries PyRunOF. \n",
    "\n",
    "The *test* consist of \n",
    "    \n",
    "* **settings** folder is the folder to be stored a setting to run simulation.\n",
    "* **solution** folder is the folder to be stored solution of simulation.\n",
    "* **compute.py** is the general python script to run the case in parametric sweep mode.\n",
    "* **test_lib.ipynb** is the python notebook considering procedures of simulation of obstacle case.\n",
    "* **test_lib.py** is the python script to run simulation of obstacle case."
   ]
  },
  {
   "cell_type": "markdown",
   "metadata": {
    "collapsed": false
   },
   "source": [
    "Let's start to import pyRunOF libraries and input data from data.py in settings folder. \n",
    "The data.py consist of parameters describing the modeling system. For example, geometry, mesh and other parameters. "
   ]
  },
  {
   "cell_type": "code",
   "execution_count": 2,
   "metadata": {
    "ExecuteTime": {
     "end_time": "2024-01-25T11:08:32.341965019Z",
     "start_time": "2024-01-25T11:08:32.299823560Z"
    },
    "collapsed": false
   },
   "outputs": [],
   "source": [
    "import pyRunOF\n",
    "from settings.data import *"
   ]
  },
  {
   "cell_type": "markdown",
   "metadata": {
    "collapsed": false
   },
   "source": [
    "To make easy our process to work with directories we initialize a python object. The oject is created by Manipulation class.\n",
    "We make a link to the object as **mp**. In the future the Manipulation object will be able as **mp**. "
   ]
  },
  {
   "cell_type": "code",
   "execution_count": 3,
   "metadata": {},
   "outputs": [],
   "source": [
    "mp = pyRunOF.Manipulations(dir_path=dir_path)"
   ]
  },
  {
   "cell_type": "markdown",
   "metadata": {},
   "source": [
    "To work with settings of our case we will often response to files in **settings** and **solutions** folders. \n",
    "Therefore we create variables to store the pathes using method **create_path_dir** from **mp** object. \n",
    "**NOTICE:** the method **create_path_dir** does not make a folder and create and store only string with requre path to the folder. By the way the folder specified to the path might be not existed. "
   ]
  },
  {
   "cell_type": "code",
   "execution_count": 4,
   "metadata": {},
   "outputs": [],
   "source": [
    "mp.create_path_dir(dir_path_key='dir', case_name='settings',\n",
    "                    path_key='settings')\n",
    "mp.create_path_dir(dir_path_key='dir', case_name='solution',\n",
    "                    path_key='solution')"
   ]
  },
  {
   "cell_type": "markdown",
   "metadata": {},
   "source": [
    "Let us to specify a path to the folder containing settings of an openfoam case. In the next steps we will response for name of the openfoam case. Therefore it is usefull to create the name and store the information in our code. In order to realize it we use **create_name** method. Then crate path of the case with built naem case from previos procedure. "
   ]
  },
  {
   "cell_type": "code",
   "execution_count": 5,
   "metadata": {
    "ExecuteTime": {
     "end_time": "2024-01-25T09:33:54.155010396Z",
     "start_time": "2024-01-25T09:33:54.150291717Z"
    }
   },
   "outputs": [],
   "source": [
    "mp.create_name(name_base=src_case, name_key=src_name_key)\n",
    "mp.create_path_dir(dir_path_key='settings', name_key=src_name_key,\n",
    "                    path_key=src_path_key)"
   ]
  },
  {
   "cell_type": "markdown",
   "metadata": {},
   "source": [
    "We will run openfoam case in **solution** folder. The name of case folder specify by method **create_name** and then create path to the case.  "
   ]
  },
  {
   "cell_type": "code",
   "execution_count": 7,
   "metadata": {},
   "outputs": [],
   "source": [
    "mp.create_name('test', name_base=src_case, name_key=dst_name_key)\n",
    "mp.create_path_dir(dir_path_key='solution', name_key=dst_name_key,\n",
    "                    path_key=dst_path_key)"
   ]
  },
  {
   "cell_type": "markdown",
   "metadata": {},
   "source": [
    "In the test we store some parametrs in json file. The case contains parameters of mesh and others. Let us to specify the path as previos step. "
   ]
  },
  {
   "cell_type": "code",
   "execution_count": 8,
   "metadata": {},
   "outputs": [],
   "source": [
    "# path to json parameters\n",
    "mp.create_path_dir(dir_path_key='settings', case_name='parameters.json',\n",
    "                    path_key='parameters_path')\n",
    "# path to json parameters of mesh\n",
    "mp.create_path_dir(dir_path_key='settings', case_name='mesh_parameters.json',\n",
    "                    path_key='mesh_parameters_path')"
   ]
  },
  {
   "cell_type": "markdown",
   "metadata": {},
   "source": [
    "To make work easier we collect all parameters describing numerical model and auxilary options in one json file by **create_json_params**. These parameters are collected from python dictionaries defined as in **data.py** of **settings** folder and so json files **parameters.json**   and **mesh_parameters.json**."
   ]
  },
  {
   "cell_type": "code",
   "execution_count": 9,
   "metadata": {},
   "outputs": [],
   "source": [
    "# collect general dict of parameters и записывает в путь по ключу parameters_path\n",
    "mp.create_json_params(time_dict, parallel_dict, prop_dict, zero_dict, library_path,\n",
    "                        mp.get_dict_from_json(mp.get_path('mesh_parameters_path')),\n",
    "                        save_path=mp.get_path('parameters_path'))\n"
   ]
  },
  {
   "cell_type": "markdown",
   "metadata": {},
   "source": [
    "The test conducts build a mesh by salome. All instrutions to generate mesh in salome and transform to openfaom mesh format are listed in a python script. \n",
    "In order for the test to run the script we need specify the path to one. First of all create the name of the script and then the path. \n",
    "\n",
    "Here we create poly_mesh_path to save prepared mesh from salome mesh script to the path. The aprroach is temporary and in the further version of PyRunOF will be implemented in a method."
   ]
  },
  {
   "cell_type": "code",
   "execution_count": 19,
   "metadata": {},
   "outputs": [],
   "source": [
    "# имя скрипта для создания сетки\n",
    "mp.create_name(name_base='create_obstacle_mesh.py', only_base=True, name_key='salome_script')\n",
    "# путь к скрипту сетки\n",
    "mp.create_path_dir(dir_path_key='settings', name_key='salome_script', path_key='salome_script_path')\n",
    "\n",
    "poly_mesh_path = mp.get_constant_path(str(mp.get_path(dst_path_key))) / 'polyMesh'"
   ]
  },
  {
   "cell_type": "markdown",
   "metadata": {},
   "source": [
    "We will use **data** dictonary to store all prameters. Let us to initialze the dictionary. \n",
    "And then create json file with all these parameters of the dictionary. "
   ]
  },
  {
   "cell_type": "code",
   "execution_count": null,
   "metadata": {},
   "outputs": [],
   "source": [
    "data = mp.get_dict_from_json(mp.get_path('parameters_path'))\n",
    "\n",
    "data.update({'constant_path': str(poly_mesh_path)})\n",
    "# collect general dict of parameters и записывает в путь по ключу parameters_path\n",
    "mp.create_json_params(data, save_path=mp.get_path('parameters_path'))"
   ]
  },
  {
   "cell_type": "markdown",
   "metadata": {},
   "source": [
    "In the current step we copy of base openfoam case from setting folder to solution foler with new name folder as specfied above. If the solution folder not exist we create the folder by **create_folder** method. "
   ]
  },
  {
   "cell_type": "code",
   "execution_count": 11,
   "metadata": {
    "ExecuteTime": {
     "end_time": "2024-01-25T09:33:55.824777978Z",
     "start_time": "2024-01-25T09:33:55.813176321Z"
    }
   },
   "outputs": [],
   "source": [
    "# if the solution folder does not exist we create it by below written code\n",
    "if not os.path.exists(mp.get_path('solution')):\n",
    "    mp.create_folder(dir_key='dir', folder_name='solution')\n",
    "\n",
    "mp.duplicate_case(src_key=src_path_key, dist_key=dst_path_key, mode='rewrite')"
   ]
  },
  {
   "cell_type": "markdown",
   "metadata": {},
   "source": [
    "To process files in system folder of openfoam case we initialize system object by **System** class of PyRunOF library. \n",
    "Method **set_controlDict** find text parts in *controlDict* file as keys of **data** dictonary and replace it on values corresponding the keys. "
   ]
  },
  {
   "cell_type": "code",
   "execution_count": 13,
   "metadata": {
    "ExecuteTime": {
     "end_time": "2024-01-25T09:33:56.788753862Z",
     "start_time": "2024-01-25T09:33:56.771900517Z"
    }
   },
   "outputs": [],
   "source": [
    "system = pyRunOF.System(case_path=mp.get_path(dst_path_key))\n",
    "system.set_controlDict(data)"
   ]
  },
  {
   "cell_type": "markdown",
   "metadata": {},
   "source": [
    "To process files in constant folder of openfoam case we initialize system object by **Constant** class of PyRunOF library. \n",
    "Method **set_transportProp** find text parts in *transportProp* file as keys of **data** dictonary and replace it on values corresponding the keys. "
   ]
  },
  {
   "cell_type": "code",
   "execution_count": 14,
   "metadata": {
    "ExecuteTime": {
     "end_time": "2024-01-25T09:33:58.643502902Z",
     "start_time": "2024-01-25T09:33:58.628557194Z"
    }
   },
   "outputs": [],
   "source": [
    "constant = pyRunOF.Constant(case_path=mp.get_path(dst_path_key), lib_path=library_path['lib_path_var'])\n",
    "constant.set_transportProp(data)"
   ]
  },
  {
   "cell_type": "markdown",
   "metadata": {},
   "source": [
    "In the part of the test we prepapre settings for initial values of the model. Therefore we need initialize **InitialValues** class and write obtained object in zero variable.  \n",
    "\n",
    "The method **set_var** is method to replace found text tempalte as key of data dict on its values. "
   ]
  },
  {
   "cell_type": "code",
   "execution_count": 17,
   "metadata": {
    "ExecuteTime": {
     "end_time": "2024-01-25T09:33:59.484929268Z",
     "start_time": "2024-01-25T09:33:59.463982386Z"
    }
   },
   "outputs": [],
   "source": [
    "########### Initial conditions #####################\n",
    "zero = pyRunOF.InitialValue(case_path=mp.get_path(dst_path_key))\n",
    "\n",
    "zero.set_var(data,)"
   ]
  },
  {
   "cell_type": "markdown",
   "metadata": {},
   "source": [
    "Here we intialize *mesh* object using **Mesh** class. Then set the parameters for decompsoePar procedure. The procedure conducts deviding mesh into parts for parallel calculations. "
   ]
  },
  {
   "cell_type": "code",
   "execution_count": 20,
   "metadata": {},
   "outputs": [],
   "source": [
    "########### mesh settings #####################\n",
    "mesh = pyRunOF.Mesh(case_path=mp.get_path(dst_path_key))\n",
    "mesh.set_decomposePar(data)"
   ]
  },
  {
   "cell_type": "markdown",
   "metadata": {},
   "source": [
    "Now we can run salome mesh script to build mesh for our model. "
   ]
  },
  {
   "cell_type": "code",
   "execution_count": 7,
   "metadata": {
    "ExecuteTime": {
     "end_time": "2024-01-25T09:34:09.020903549Z",
     "start_time": "2024-01-25T09:34:01.601043368Z"
    }
   },
   "outputs": [
    {
     "name": "stderr",
     "output_type": "stream",
     "text": [
      "bash: cannot set terminal process group (24824): Inappropriate ioctl for device\n",
      "bash: no job control in this shell\n"
     ]
    },
    {
     "name": "stdout",
     "output_type": "stream",
     "text": [
      "/home/ivan/programms/OpenFOAM/PyRunOF/tests/obstacle_new_ps/settings\n",
      "\"ViscousLayers2D=0.00086...,7,1.03,[10, 3],0\" was not assigned to \"final geometry\" shape in \"final geometry\" mesh  : hypothesis of the same dimension is already assigned to this shape\n",
      "Number of nodes: 51896\n",
      "\n",
      "Number of cells: 25475\n",
      "\n",
      "Counting number of faces:\n",
      "\n",
      "total number of faces: 102373, internal: 50355, external 52018\n",
      "\n",
      "Converting mesh to OpenFOAM\n",
      "\n",
      "Finished processing boundary faces\n",
      "\n",
      "Finished processing volumes.\n",
      "\n",
      "Sorting faces in upper triangular order\n",
      "\n",
      "Writing the file points\n",
      "\n",
      "Writing the file faces\n",
      "\n",
      "Writing the file owner\n",
      "\n",
      "Writing the file neighbour\n",
      "\n",
      "Writing the file boundary\n",
      "\n",
      "Writing file cellZones\n",
      "\n",
      "Finished writing to /home/ivan/programms/OpenFOAM/PyRunOF/tests/obstacle_new_ps/settings//home/ivan/programms/OpenFOAM/PyRunOF/tests/obstacle_new_ps/solution/obstacle_base_test/constant/polyMesh \n",
      "\n",
      "Converted mesh in 2s\n",
      "\n",
      "Wrote mesh in 1s\n",
      "\n",
      "Total time: 3s\n"
     ]
    }
   ],
   "source": [
    "mesh.run_salome_mesh(script_path=mp.get_path('salome_script_path'),\n",
    "                        parameter_path=mp.get_path('parameters_path'))"
   ]
  },
  {
   "cell_type": "markdown",
   "metadata": {},
   "source": [
    "Here we run procedure of mesh decomposition "
   ]
  },
  {
   "cell_type": "code",
   "execution_count": 8,
   "metadata": {
    "ExecuteTime": {
     "end_time": "2024-01-25T09:35:50.557881016Z",
     "start_time": "2024-01-25T09:35:49.932512045Z"
    },
    "collapsed": false
   },
   "outputs": [
    {
     "name": "stderr",
     "output_type": "stream",
     "text": [
      "bash: cannot set terminal process group (24824): Inappropriate ioctl for device\n",
      "bash: no job control in this shell\n"
     ]
    },
    {
     "name": "stdout",
     "output_type": "stream",
     "text": [
      "/*---------------------------------------------------------------------------*\\\n",
      "  =========                 |\n",
      "  \\\\      /  F ield         | OpenFOAM: The Open Source CFD Toolbox\n",
      "   \\\\    /   O peration     | Website:  https://openfoam.org\n",
      "    \\\\  /    A nd           | Version:  6\n",
      "     \\\\/     M anipulation  |\n",
      "\\*---------------------------------------------------------------------------*/\n",
      "Build  : 6-47517f2ebb1b\n",
      "Exec   : decomposePar -force\n",
      "Date   : Jan 25 2024\n",
      "Time   : 14:35:50\n",
      "Host   : \"ivan\"\n",
      "PID    : 25227\n",
      "I/O    : uncollated\n",
      "Case   : /home/ivan/programms/OpenFOAM/PyRunOF/tests/obstacle_new_ps/solution/obstacle_base_test\n",
      "nProcs : 1\n",
      "sigFpe : Enabling floating point exception trapping (FOAM_SIGFPE).\n",
      "fileModificationChecking : Monitoring run-time modified files using timeStampMaster (fileModificationSkew 10)\n",
      "allowSystemOperations : Allowing user-supplied system call operations\n",
      "\n",
      "// * * * * * * * * * * * * * * * * * * * * * * * * * * * * * * * * * * * * * //\n",
      "Create time\n",
      "\n",
      "Removing 0 existing processor directories\n",
      "\n",
      "\n",
      "Decomposing mesh region0\n",
      "\n",
      "Create mesh\n",
      "\n",
      "Calculating distribution of cells\n",
      "Selecting decompositionMethod scotch\n",
      "\n",
      "Finished decomposition in 0.02 s\n",
      "\n",
      "Calculating original mesh data\n",
      "\n",
      "Distributing cells to processors\n",
      "\n",
      "Distributing faces to processors\n",
      "\n",
      "Distributing points to processors\n",
      "\n",
      "Constructing processor meshes\n",
      "\n",
      "Processor 0\n",
      "    Number of cells = 3214\n",
      "    Number of faces shared with processor 1 = 53\n",
      "    Number of faces shared with processor 5 = 58\n",
      "    Number of processor patches = 2\n",
      "    Number of processor faces = 111\n",
      "    Number of boundary faces = 6553\n",
      "\n",
      "Processor 1\n",
      "    Number of cells = 3215\n",
      "    Number of faces shared with processor 0 = 53\n",
      "    Number of faces shared with processor 2 = 52\n",
      "    Number of processor patches = 2\n",
      "    Number of processor faces = 105\n",
      "    Number of boundary faces = 6553\n",
      "\n",
      "Processor 2\n",
      "    Number of cells = 3172\n",
      "    Number of faces shared with processor 1 = 52\n",
      "    Number of faces shared with processor 3 = 52\n",
      "    Number of processor patches = 2\n",
      "    Number of processor faces = 104\n",
      "    Number of boundary faces = 6466\n",
      "\n",
      "Processor 3\n",
      "    Number of cells = 3215\n",
      "    Number of faces shared with processor 2 = 52\n",
      "    Number of processor patches = 1\n",
      "    Number of processor faces = 52\n",
      "    Number of boundary faces = 6607\n",
      "\n",
      "Processor 4\n",
      "    Number of cells = 3173\n",
      "    Number of faces shared with processor 5 = 72\n",
      "    Number of faces shared with processor 6 = 54\n",
      "    Number of processor patches = 2\n",
      "    Number of processor faces = 126\n",
      "    Number of boundary faces = 6466\n",
      "\n",
      "Processor 5\n",
      "    Number of cells = 3153\n",
      "    Number of faces shared with processor 0 = 58\n",
      "    Number of faces shared with processor 4 = 72\n",
      "    Number of faces shared with processor 6 = 33\n",
      "    Number of processor patches = 3\n",
      "    Number of processor faces = 163\n",
      "    Number of boundary faces = 6419\n",
      "\n",
      "Processor 6\n",
      "    Number of cells = 3153\n",
      "    Number of faces shared with processor 4 = 54\n",
      "    Number of faces shared with processor 5 = 33\n",
      "    Number of faces shared with processor 7 = 53\n",
      "    Number of processor patches = 3\n",
      "    Number of processor faces = 140\n",
      "    Number of boundary faces = 6421\n",
      "\n",
      "Processor 7\n",
      "    Number of cells = 3180\n",
      "    Number of faces shared with processor 6 = 53\n",
      "    Number of processor patches = 1\n",
      "    Number of processor faces = 53\n",
      "    Number of boundary faces = 6533\n",
      "\n",
      "Number of processor faces = 427\n",
      "Max number of cells = 3215 (0.961727% above average 3184.38)\n",
      "Max number of processor patches = 3 (50% above average 2)\n",
      "Max number of faces between processors = 163 (52.6932% above average 106.75)\n",
      "\n",
      "Time = 0\n",
      "--> FOAM Warning : \n",
      "    From function const Foam::HashTable<Foam::List<int>, Foam::word>& Foam::polyBoundaryMesh::groupPatchIDs() const\n",
      "    in file meshes/polyMesh/polyBoundaryMesh/polyBoundaryMesh.C at line 467\n",
      "    Removing patchGroup 'empty' which clashes with patch 0 of the same name.\n",
      "\n",
      "Processor 0: field transfer\n",
      "Processor 1: field transfer\n",
      "Processor 2: field transfer\n",
      "Processor 3: field transfer\n",
      "Processor 4: field transfer\n",
      "Processor 5: field transfer\n",
      "Processor 6: field transfer\n",
      "Processor 7: field transfer\n",
      "\n",
      "End\n"
     ]
    }
   ],
   "source": [
    "mesh.run_decompose(what='OF')"
   ]
  },
  {
   "cell_type": "markdown",
   "metadata": {},
   "source": [
    "To run our model for calculation we will be able to use object of **Run** classes. Let us initialize it and set some settings. \n",
    "We want to save log file with information of solution, provide prallel calculation on the number of **data['core_OF']** corecores."
   ]
  },
  {
   "cell_type": "code",
   "execution_count": null,
   "metadata": {},
   "outputs": [],
   "source": [
    "runner = pyRunOF.Run(solver='pisoFoam', path_case=mp.get_path(dst_path_key))\n",
    "runner.set_log_flag(log_flag=True)\n",
    "runner.set_mode(mode='parallel')\n",
    "runner.set_cores(coreOF=data['core_OF'])"
   ]
  },
  {
   "cell_type": "markdown",
   "metadata": {},
   "source": [
    "Here we run our model for calculation!!!"
   ]
  },
  {
   "cell_type": "code",
   "execution_count": null,
   "metadata": {},
   "outputs": [],
   "source": [
    "runner.run()\n"
   ]
  }
 ],
 "metadata": {
  "kernelspec": {
   "display_name": "python-3.11_general",
   "language": "python",
   "name": "python3"
  },
  "language_info": {
   "codemirror_mode": {
    "name": "ipython",
    "version": 3
   },
   "file_extension": ".py",
   "mimetype": "text/x-python",
   "name": "python",
   "nbconvert_exporter": "python",
   "pygments_lexer": "ipython3",
   "version": "3.11.6"
  }
 },
 "nbformat": 4,
 "nbformat_minor": 2
}
