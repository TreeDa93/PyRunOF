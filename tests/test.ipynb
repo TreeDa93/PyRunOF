{
 "cells": [
  {
   "cell_type": "code",
   "execution_count": 5,
   "metadata": {},
   "outputs": [],
   "source": [
    "from typing import Self"
   ]
  },
  {
   "cell_type": "code",
   "execution_count": 41,
   "metadata": {},
   "outputs": [],
   "source": [
    "class Information:\n",
    "\n",
    "    def __init__(self) -> None:\n",
    "        print('InfO!!!')\n",
    "        self.information = 'General info!!!'\n",
    "\n",
    "    def test_info_method(self):\n",
    "        print('I am info method')\n",
    "\n",
    "class Meta_data:\n",
    "\n",
    "    def __init__(self) -> None:\n",
    "        print('Meta!!!')\n",
    "        self.meta_data = 'Meta data!!!'\n",
    "\n",
    "    def test_meta_method(self):\n",
    "        print('I am meta data method')\n"
   ]
  },
  {
   "cell_type": "code",
   "execution_count": 42,
   "metadata": {},
   "outputs": [],
   "source": [
    "class B(Information):\n",
    "\n",
    "    def __init__(self) -> None:\n",
    "        super().__init__()\n",
    "\n",
    "    def test_B_method(self):\n",
    "        print('I am B method')"
   ]
  },
  {
   "cell_type": "code",
   "execution_count": 44,
   "metadata": {},
   "outputs": [],
   "source": [
    "class C(Information):\n",
    "\n",
    "    def __init__(self):\n",
    "        super().__init__()\n",
    "\n",
    "    def test_C_method(self):\n",
    "        print('I am A method')\n",
    "\n",
    "    def create_new_object(self):\n",
    "        return B()\n",
    "    \n",
    "class A(Information, Meta_data):\n",
    "\n",
    "    def __init__(self):\n",
    "        super().__init__()\n",
    "\n",
    "    def test_A_method(self):\n",
    "        print('I am A method')\n",
    "\n",
    "    def create_new_object(self):\n",
    "        return B()"
   ]
  },
  {
   "cell_type": "code",
   "execution_count": 52,
   "metadata": {},
   "outputs": [
    {
     "name": "stdout",
     "output_type": "stream",
     "text": [
      "I am meta data method\n"
     ]
    }
   ],
   "source": [
    "test_A = A()\n",
    "test_C = C()\n",
    "test_A.information\n",
    "test_C.information\n",
    "test_A.test_meta_method()"
   ]
  },
  {
   "cell_type": "code",
   "execution_count": 27,
   "metadata": {},
   "outputs": [],
   "source": [
    "test_B = test_A.create_new_object()"
   ]
  },
  {
   "cell_type": "code",
   "execution_count": 40,
   "metadata": {},
   "outputs": [
    {
     "name": "stdout",
     "output_type": "stream",
     "text": [
      "I am B method\n"
     ]
    },
    {
     "data": {
      "text/plain": [
       "'General info!!!'"
      ]
     },
     "execution_count": 40,
     "metadata": {},
     "output_type": "execute_result"
    }
   ],
   "source": [
    "test_B.test_B_method()\n",
    "test_B.information"
   ]
  },
  {
   "cell_type": "code",
   "execution_count": 1,
   "metadata": {},
   "outputs": [],
   "source": [
    "import numpy as np"
   ]
  },
  {
   "cell_type": "code",
   "execution_count": 2,
   "metadata": {},
   "outputs": [],
   "source": [
    "x = np.linspace(-2*np.pi, 2*np.pi, 100)\n"
   ]
  },
  {
   "cell_type": "code",
   "execution_count": null,
   "metadata": {},
   "outputs": [],
   "source": [
    "class myClass:\n",
    "    \n",
    "    def __new__(cls, *args, **kwargs):\n",
    "        print('hi! Here is new!')\n",
    "\n",
    "        return super().__new__(cls)\n",
    "    \n",
    "    def __init__(self):\n",
    "        print('Hi! here is init!')\n",
    "        self.a = 'general'\n",
    "\n",
    "    @property\n",
    "    def get_a(self):\n",
    "        return self.a\n",
    "\n",
    "class myClass2:\n",
    "\n",
    "    def __init__(self):\n",
    "        print('Hi! here is init!')\n",
    "\n"
   ]
  },
  {
   "cell_type": "code",
   "execution_count": 29,
   "metadata": {},
   "outputs": [
    {
     "name": "stdout",
     "output_type": "stream",
     "text": [
      "hi! Here is new!\n",
      "Hi! here is init!\n"
     ]
    },
    {
     "data": {
      "text/plain": [
       "<__main__.myClass at 0x242aa1900d0>"
      ]
     },
     "execution_count": 29,
     "metadata": {},
     "output_type": "execute_result"
    }
   ],
   "source": [
    "myClass()"
   ]
  }
 ],
 "metadata": {
  "kernelspec": {
   "display_name": "myPython3.11",
   "language": "python",
   "name": "python3"
  },
  "language_info": {
   "codemirror_mode": {
    "name": "ipython",
    "version": 3
   },
   "file_extension": ".py",
   "mimetype": "text/x-python",
   "name": "python",
   "nbconvert_exporter": "python",
   "pygments_lexer": "ipython3",
   "version": "3.11.6"
  }
 },
 "nbformat": 4,
 "nbformat_minor": 2
}
